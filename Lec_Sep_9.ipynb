{
 "cells": [
  {
   "cell_type": "code",
   "execution_count": null,
   "metadata": {},
   "outputs": [],
   "source": [
    "variable_name: type = value         # Basic syntax for variable declaration\n",
    "                                    # This line will not run because \"value\" \n",
    "                                    # is not defined yet.\n",
    "                                    # Exercise: Try to create a variable called \"value\"\n",
    "                                    # and run it."
   ]
  },
  {
   "cell_type": "code",
   "execution_count": 7,
   "metadata": {},
   "outputs": [],
   "source": [
    "foo: int = 3"
   ]
  },
  {
   "cell_type": "markdown",
   "metadata": {},
   "source": [
    "We call the  `: type` part of the variable declaration as type annotation. In Python, type annotations are simple mark ups that allow you to make notes to your self. However, these are enforced. Meaning that you can declare a variable of one type, say `int`, but store a value of completely different type, say 'string. \n",
    "\n",
    "Look at the following example"
   ]
  },
  {
   "cell_type": "code",
   "execution_count": 8,
   "metadata": {},
   "outputs": [],
   "source": [
    "foobar: int = \"three\""
   ]
  },
  {
   "cell_type": "code",
   "execution_count": null,
   "metadata": {},
   "outputs": [],
   "source": [
    "print(foobar)"
   ]
  },
  {
   "cell_type": "markdown",
   "metadata": {},
   "source": [
    "In Python, it is not common early on to have type annotations. However, we are starting with type annotations for two reasons:\n",
    "\n",
    "1. Code is not just for the computer but for humans, including your future-self. It helps them better understand the code.\n",
    "2. It forces you to keep in mind the types of variables which makes you a better programmer. Because you are doing things more intentionally. Furthermore, other programming languages, such as Java, C++ do not allow creating variables without type!"
   ]
  },
  {
   "cell_type": "code",
   "execution_count": null,
   "metadata": {},
   "outputs": [],
   "source": [
    "num_1: int = 10\n",
    "num_2: int = 20\n",
    "\n",
    "num_3: int = num_1 + num_2          # Apart from storing actual value, you can store the \n",
    "                                    # value of other expresisons\n",
    "print(num_3)"
   ]
  },
  {
   "cell_type": "markdown",
   "metadata": {},
   "source": [
    "### Review of arithmetic operations"
   ]
  },
  {
   "cell_type": "code",
   "execution_count": null,
   "metadata": {},
   "outputs": [],
   "source": [
    "num_4: int = num_1 - num_2          # Subtraction\n",
    "num_5: int = num_1 * num_2          # Multiplication\n",
    "\n",
    "num_6: int = num_1 ** 2             # Exponent\n",
    "\n",
    "num_7: float = num_1 / 5            # Division"
   ]
  },
  {
   "cell_type": "code",
   "execution_count": null,
   "metadata": {},
   "outputs": [],
   "source": [
    "10 // 5                             # Integer division, note the double slash"
   ]
  },
  {
   "cell_type": "code",
   "execution_count": null,
   "metadata": {},
   "outputs": [],
   "source": [
    "10.0 // 3                           # Using floats with integer division first performs \n",
    "                                    # integer division and then converts the result into \n",
    "                                    # a float"
   ]
  },
  {
   "cell_type": "markdown",
   "metadata": {},
   "source": [
    "### Comparison Operators"
   ]
  },
  {
   "cell_type": "code",
   "execution_count": null,
   "metadata": {},
   "outputs": [],
   "source": [
    "10.0 == 10.0                        # Equal to"
   ]
  },
  {
   "cell_type": "code",
   "execution_count": null,
   "metadata": {},
   "outputs": [],
   "source": [
    "10.0 == 10                          # When comparing two values of different types, the operator\n",
    "                                    # converts the values into the same type.\n",
    "                                    # The output of this operator is a boolean value"
   ]
  },
  {
   "cell_type": "code",
   "execution_count": null,
   "metadata": {},
   "outputs": [],
   "source": [
    "10.0 == \"10.0\"                      # If it cannot convert the two variables into the same type,\n",
    "                                    # then it compare them and therefore it results in False"
   ]
  },
  {
   "cell_type": "markdown",
   "metadata": {},
   "source": [
    "**NOTE** - While in Python you can try to compare two different types, in other programming languages you cannot even compare them. It will result in a syntax error"
   ]
  },
  {
   "cell_type": "code",
   "execution_count": null,
   "metadata": {},
   "outputs": [],
   "source": [
    "print(10.0 <= 10)                   # Less than or equal to\n",
    "print(10.0 >= 10)                   # Greater than or equal to\n",
    "print(10 != 1)                      # Not equal to\n",
    "                                    # Having `print` statements for each expression allows you\n",
    "                                    # to `print` the results below for each expression. \n",
    "                                    # Without the `print`` statement, Jupyter would only \n",
    "                                    # output the result of the last expression. Try it."
   ]
  },
  {
   "cell_type": "markdown",
   "metadata": {},
   "source": [
    "### `print` is your friend\n",
    "\n",
    "`print` statement is your best friend. If you are not sure what is happening inside code, just `print` it."
   ]
  },
  {
   "cell_type": "code",
   "execution_count": 53,
   "metadata": {},
   "outputs": [],
   "source": [
    "some_expression: float = (10 ** 2) - (4 * 5) * (11 % 2) # You can simplify the expression by\n",
    "                                                        # saving individual expression into\n",
    "                                                        # variables and printing the results"
   ]
  },
  {
   "cell_type": "code",
   "execution_count": null,
   "metadata": {},
   "outputs": [],
   "source": [
    "expression_1: float = (10 ** 2)\n",
    "expression_2: int = (4 * 5)\n",
    "expression_3: int = (11 % 2)\n",
    "print(f\"expression_1: {expression_1}, expression_2: {expression_2}, expression_3: {expression_3} \")\n",
    "print(expression_2)\n",
    "print(expression_3)\n",
    "some_expression: float = expression_1 - expression_2 * expression_3\n"
   ]
  },
  {
   "cell_type": "markdown",
   "metadata": {},
   "source": [
    "### Doing some operations on string"
   ]
  },
  {
   "cell_type": "markdown",
   "metadata": {},
   "source": [
    "#### Arithmetic Operations"
   ]
  },
  {
   "cell_type": "code",
   "execution_count": null,
   "metadata": {},
   "outputs": [],
   "source": [
    "\"foo\" + \" bar\"          # This works\n",
    "\"foo\" - \" bar\"          # This does not work\n",
    "\"foo\" * \" bar\"          # This also does not work"
   ]
  },
  {
   "cell_type": "markdown",
   "metadata": {},
   "source": [
    "#### Comparison Operations"
   ]
  },
  {
   "cell_type": "code",
   "execution_count": null,
   "metadata": {},
   "outputs": [],
   "source": [
    "\"foo\" == \"foo\"          # Are the two string the same\n",
    "\"foo\" <= \"fom\"          # How could we compare two string operations?\n",
    "\"a\" < \"b\"               # EXERCISE: Hypothesize, what wil be the value of this expression?\n",
    "                        # If it is not what you expected, what do you think the\n",
    "                        # comparison operator is comparing?\n",
    "                        \n"
   ]
  },
  {
   "cell_type": "code",
   "execution_count": 58,
   "metadata": {},
   "outputs": [],
   "source": [
    "# Exercise: Use all the comparison operators - `<`, `>`, `<=`, `>=`, `!=` for a few strings\n",
    "# and try to get True and False values with each operator."
   ]
  },
  {
   "cell_type": "markdown",
   "metadata": {},
   "source": [
    "### Input, Computation, and Output\n",
    "\n",
    "Throughout the course (and your programming journey), we will break down problems into three steps, we take inputs, perform some computation, and output the computation.\n",
    "\n",
    "So far we have seen how to do computations (i.e., using arithmetic, comparison, and logical operators) and how to output the computations (right now, only using `print` statements).\n",
    "\n",
    "But, now we will look into ways to `input` things."
   ]
  },
  {
   "cell_type": "code",
   "execution_count": 31,
   "metadata": {},
   "outputs": [],
   "source": [
    "name: str = input(\"What is your name?\")\n",
    "print(name)"
   ]
  },
  {
   "cell_type": "markdown",
   "metadata": {},
   "source": [
    "`input` allows you take input from users. In the `input` statement you can also write a message that should be printed for the user.\n",
    "\n",
    "By default the `type` of the value will be `str`. But, you can convert the types as shown in the following example "
   ]
  },
  {
   "cell_type": "code",
   "execution_count": null,
   "metadata": {},
   "outputs": [],
   "source": [
    "lucky_number: int = int(input(\"What is your lucky number?\"))    # Convert `str` to `int`\n",
    "print(lucky_number)                                             # Note that `print` implicitly\n",
    "                                                                # converts it back into `str`"
   ]
  },
  {
   "cell_type": "markdown",
   "metadata": {},
   "source": [
    "**EXERCISE**: In the above cell try to enter something that cannot be converted into an integer. What happens?"
   ]
  },
  {
   "cell_type": "markdown",
   "metadata": {},
   "source": [
    "Converting one type into another is known as `casting`. Following are additional examples of converting from one type to another."
   ]
  },
  {
   "cell_type": "code",
   "execution_count": null,
   "metadata": {},
   "outputs": [],
   "source": [
    "int(\"10\")"
   ]
  },
  {
   "cell_type": "code",
   "execution_count": null,
   "metadata": {},
   "outputs": [],
   "source": [
    "float(\"1.0\")"
   ]
  },
  {
   "cell_type": "code",
   "execution_count": null,
   "metadata": {},
   "outputs": [],
   "source": [
    "str(10.43)"
   ]
  },
  {
   "cell_type": "code",
   "execution_count": null,
   "metadata": {},
   "outputs": [],
   "source": [
    "type(bool(\"10.0\"))"
   ]
  },
  {
   "cell_type": "code",
   "execution_count": null,
   "metadata": {},
   "outputs": [],
   "source": [
    "int(10.3)"
   ]
  },
  {
   "cell_type": "code",
   "execution_count": null,
   "metadata": {},
   "outputs": [],
   "source": [
    "my_name: str = input(\"What is your name?\")\n",
    "welcome_message: str = \"Hello \" + my_name + \", Welcome to Colby!\"\n",
    "print(welcome_message)"
   ]
  },
  {
   "cell_type": "markdown",
   "metadata": {},
   "source": [
    "**EXERCISE**: The following code snippet has some syntax that you may not have seen before. Try to deduce what it is doing. \n",
    "\n",
    "We will understand each line in the coming classes"
   ]
  },
  {
   "cell_type": "code",
   "execution_count": null,
   "metadata": {},
   "outputs": [],
   "source": [
    "import math\n",
    "\n",
    "num:int = int(input(\"Give me a number to compute the factorial for: \"))\n",
    "factorial_of_num: int = math.factorial(num)\n",
    "print(\"The factorial of \" + str(num) + \" is \" + str(factorial_of_num))"
   ]
  }
 ],
 "metadata": {
  "kernelspec": {
   "display_name": "Python 3",
   "language": "python",
   "name": "python3"
  },
  "language_info": {
   "codemirror_mode": {
    "name": "ipython",
    "version": 3
   },
   "file_extension": ".py",
   "mimetype": "text/x-python",
   "name": "python",
   "nbconvert_exporter": "python",
   "pygments_lexer": "ipython3",
   "version": "3.11.9"
  }
 },
 "nbformat": 4,
 "nbformat_minor": 2
}
