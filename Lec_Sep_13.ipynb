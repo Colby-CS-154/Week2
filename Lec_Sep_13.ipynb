{
 "cells": [
  {
   "cell_type": "markdown",
   "metadata": {},
   "source": [
    "## Review"
   ]
  },
  {
   "cell_type": "code",
   "execution_count": 33,
   "metadata": {},
   "outputs": [
    {
     "ename": "SyntaxError",
     "evalue": "incomplete input (41500571.py, line 27)",
     "output_type": "error",
     "traceback": [
      "\u001b[0;36m  Cell \u001b[0;32mIn[33], line 27\u001b[0;36m\u001b[0m\n\u001b[0;31m    else:\u001b[0m\n\u001b[0m         ^\u001b[0m\n\u001b[0;31mSyntaxError\u001b[0m\u001b[0;31m:\u001b[0m incomplete input\n"
     ]
    }
   ],
   "source": [
    "# Scenario #1: In case the number is even print even number otherwise print odd number\n",
    "\n",
    "# Step 1. Get the number from the user. Since the `input` always gives \n",
    "# value that are `str`, therefore, we need to convert them into integers\n",
    "# To convert them into integers, we use `int`\n",
    "num: int = int(input(\"Enter a number\"))\n",
    "\n",
    "# Step 2. How to check if a number is even or odd?\n",
    "# We use the % operator (called the modulus operator) which gives us\n",
    "# the remainder. \n",
    "\n",
    "# Therefore num % 2 == 0 will return True if `num` is even or False \n",
    "# if `num` is odd. We can test that by typing the following code in a new\n",
    "# cell, running it a couple of times, and giving a different value each time.\n",
    "# num:int = int(input(\"Enter a number\"))\n",
    "# print(str(num % 2 == 0))\n",
    "\n",
    "\n",
    "# Step 3. Since there are two possible outcomes and for each outcome I want\n",
    "# to run different code. In case `num % 2 == 0` evaluates to True, I want\n",
    "# to print \"It is an even number\". And in the case `num % 2 == 0` evaluates`\n",
    "# to False, I want to print \"It is an odd number\". Therefore I will use\n",
    "# the if-else statements. \n",
    "\n",
    "                                                    # I would read the this code block as follows (READ IT OUT ALOUD):\n",
    "                                                    # Yes, really read it out aloud, don't just read it!\n",
    "\n",
    "\n",
    "if (num % 2 == 0):                                  # if num mod 2 is equal to 0 then \n",
    "    print(\"It is an even number\")                   # print it is an even number\n",
    "else:                                               # else\n",
    "    print(\"It is an odd number\")                    # print it is an odd number\n",
    "\n"
   ]
  },
  {
   "cell_type": "markdown",
   "metadata": {},
   "source": [
    "##### READ THE FOLLOWING CELL FIRST BEFORE EXECUTING IT"
   ]
  },
  {
   "cell_type": "code",
   "execution_count": null,
   "metadata": {},
   "outputs": [],
   "source": [
    "# Scenario 2: In case number is even print even number otherwise check can \n",
    "# it be divided by 3 or not, if it say so, otherwise just say odd\n",
    "\n",
    "# Step 1: Get input from the user. This step is the same as the step\n",
    "# from above\n",
    "\n",
    "num: int = int(input(\"Enter a number\"))\n",
    "\n",
    "# Step 2: Check if the number is odd or even or divisble 3. \n",
    "# To check if the number is odd/even I can use the same expression from \n",
    "# above. Therefore, the first version of the code I write is:\n",
    "\n",
    "if (num % 2 == 0):\n",
    "    print(\"It is an even number\")\n",
    "else:\n",
    "    print(\"It is an odd number\")\n",
    "\n",
    "#  Step 3. I now realize that there is a third possible outcome, \n",
    "# that `num` is divisible by 3. Therefore I can use `elif` which allows\n",
    "# me to create a third condition to check.\n",
    "\n",
    "if (num % 2 == 0):\n",
    "    print(\"It is an even number\")\n",
    "elif (num % 3 == 0):\n",
    "    print(\"It is divisible by three\")\n",
    "else:\n",
    "    print(\"It is an odd number\")"
   ]
  },
  {
   "cell_type": "markdown",
   "metadata": {},
   "source": [
    "# EXERCISE: \n",
    "Following are some variations of the above logic. Run each of them and describe the differences."
   ]
  },
  {
   "cell_type": "code",
   "execution_count": null,
   "metadata": {},
   "outputs": [],
   "source": [
    "# Write code to get an input from there user here\n",
    "\n",
    "\n",
    "# Variation #1\n",
    "if (num % 2 == 0):\n",
    "    if (num % 3 == 0):                          \n",
    "        print(\"It is divisible by 2 and 3\")\n",
    "    print(\"It is an even number\")               \n",
    "\n",
    "# Variation #2\n",
    "if (num % 2 == 0):\n",
    "    print(\"It is an even number\")\n",
    "if (num % 3 == 0):\n",
    "    print(\"It is divisible by 3\")\n",
    "else:\n",
    "    print(\"It is an odd number\")\n",
    "\n",
    "# Variation #3\n",
    "if (num % 2 == 0 and num % 3 == 0):\n",
    "    print(\"Divisble by both numbers\")"
   ]
  },
  {
   "cell_type": "markdown",
   "metadata": {},
   "source": [
    "## String operations\n",
    "\n",
    "We surprisingly can do some operations on string type variables that seems counterintuitive. Let's explore"
   ]
  },
  {
   "cell_type": "code",
   "execution_count": 64,
   "metadata": {},
   "outputs": [
    {
     "data": {
      "text/plain": [
       "'food'"
      ]
     },
     "execution_count": 64,
     "metadata": {},
     "output_type": "execute_result"
    }
   ],
   "source": [
    "\"fo\" + \"od\"                             # This is easy and expected. If you \"add\" two strings \n",
    "                                        # it should join them together"
   ]
  },
  {
   "cell_type": "code",
   "execution_count": 65,
   "metadata": {},
   "outputs": [
    {
     "data": {
      "text/plain": [
       "'----------'"
      ]
     },
     "execution_count": 65,
     "metadata": {},
     "output_type": "execute_result"
    }
   ],
   "source": [
    "\"-\" * 10                                # This allows us to repeat the string 10 times."
   ]
  },
  {
   "cell_type": "code",
   "execution_count": 66,
   "metadata": {},
   "outputs": [
    {
     "data": {
      "text/plain": [
       "'----------'"
      ]
     },
     "execution_count": 66,
     "metadata": {},
     "output_type": "execute_result"
    }
   ],
   "source": [
    "10 * \"-\"                                # The reverse is also true"
   ]
  },
  {
   "cell_type": "code",
   "execution_count": 43,
   "metadata": {},
   "outputs": [
    {
     "ename": "TypeError",
     "evalue": "unsupported operand type(s) for -: 'str' and 'str'",
     "output_type": "error",
     "traceback": [
      "\u001b[0;31m---------------------------------------------------------------------------\u001b[0m",
      "\u001b[0;31mTypeError\u001b[0m                                 Traceback (most recent call last)",
      "Cell \u001b[0;32mIn[43], line 1\u001b[0m\n\u001b[0;32m----> 1\u001b[0m \u001b[38;5;124;43m\"\u001b[39;49m\u001b[38;5;124;43mab\u001b[39;49m\u001b[38;5;124;43m\"\u001b[39;49m\u001b[43m \u001b[49m\u001b[38;5;241;43m-\u001b[39;49m\u001b[43m \u001b[49m\u001b[38;5;124;43m\"\u001b[39;49m\u001b[38;5;124;43ma\u001b[39;49m\u001b[38;5;124;43m\"\u001b[39;49m\n",
      "\u001b[0;31mTypeError\u001b[0m: unsupported operand type(s) for -: 'str' and 'str'"
     ]
    }
   ],
   "source": [
    "#\"ab\" - \"a\"                             # Unfortunately the subtraction does not work on strings\n",
    "                                        # But we will look at how we can remove it when processing strings"
   ]
  },
  {
   "cell_type": "markdown",
   "metadata": {},
   "source": [
    "### Comparison Operations"
   ]
  },
  {
   "cell_type": "code",
   "execution_count": 67,
   "metadata": {},
   "outputs": [
    {
     "data": {
      "text/plain": [
       "True"
      ]
     },
     "execution_count": 67,
     "metadata": {},
     "output_type": "execute_result"
    }
   ],
   "source": [
    "\"a\" < \"b\"                              # When comparing strings, we are comparing the \n",
    "                                       # ASCII value of the character. (Search \"ASCII value\" \n",
    "                                       # or \"ASCII chart\"). This ASCII value is a number and\n",
    "                                       # we compare them when comparing strings"
   ]
  },
  {
   "cell_type": "code",
   "execution_count": 39,
   "metadata": {},
   "outputs": [
    {
     "data": {
      "text/plain": [
       "False"
      ]
     },
     "execution_count": 39,
     "metadata": {},
     "output_type": "execute_result"
    }
   ],
   "source": [
    "\"ab\" <= \"ac\"                           # When comparing longer strings (not just a single\n",
    "                                       # character), we start by comparing the first characters of \n",
    "                                       # both strings. If they are the same then we move on to the next \n",
    "                                       # string"
   ]
  },
  {
   "cell_type": "markdown",
   "metadata": {},
   "source": [
    "### EXERCISE\n",
    "\n",
    "Try to use the different comparison operators on these three strings and guess their values \"abc\", \"ABC\", \"abb\""
   ]
  },
  {
   "cell_type": "code",
   "execution_count": 71,
   "metadata": {},
   "outputs": [
    {
     "name": "stdout",
     "output_type": "stream",
     "text": [
      "The ASCII value of @ is : 64\n"
     ]
    }
   ],
   "source": [
    "ord(\"a\")                                # We can also use the `ord` function to get the ASCII value of the character\n",
    "ord(\"b\")                                # Note that 'a' and 'A' are two different symbols therefore\n",
    "ord(\"A\")                                # their ASCII values are different\n",
    "ord(\"B\")                                \n",
    "ord(\"3\")                                # We can get ASCII value of any symbol on the keyboard\n",
    "ord(\"@\")                                "
   ]
  },
  {
   "cell_type": "markdown",
   "metadata": {},
   "source": [
    "## `in` keyword\n",
    "\n",
    "`in` is a very powerful syntax in Python that allows you to search through things\n",
    "that are a sequence, such as a string - which is a sequence of characters. We will\n",
    "see other types through which we can use `in`"
   ]
  },
  {
   "cell_type": "code",
   "execution_count": 73,
   "metadata": {},
   "outputs": [
    {
     "name": "stdout",
     "output_type": "stream",
     "text": [
      "True\n",
      "False\n",
      "True\n"
     ]
    }
   ],
   "source": [
    "print(\"yes\" in \"Heck yes, I like pizza\")                # This can be read as - \"Is the string 'yes' in the larger string\n",
    "                                                        # 'Heck yes, I like pizza'?\"\n",
    "print(\"a\" in \"hello\")\n",
    "print(\"not good\" in \"Hey, I am not good\")"
   ]
  },
  {
   "cell_type": "markdown",
   "metadata": {},
   "source": [
    "When we use the `in` keyword, we make the expression a boolean expression and it\n",
    "evaluates to a `True`/`False` value. Therefore, we can use this keyword in `conditionals`"
   ]
  },
  {
   "cell_type": "code",
   "execution_count": null,
   "metadata": {},
   "outputs": [],
   "source": [
    "input()"
   ]
  },
  {
   "cell_type": "code",
   "execution_count": 75,
   "metadata": {},
   "outputs": [
    {
     "name": "stdout",
     "output_type": "stream",
     "text": [
      "Hey, I like pizza too\n"
     ]
    }
   ],
   "source": [
    "expected_response: str = \"pizza\"\n",
    "user_response: str = input(\"List the dishes you like, separated by comma\")\n",
    "\n",
    "if (expected_response in user_response):\n",
    "    print(\"Hey, I like \" + expected_response + \" too!\")\n",
    "else:\n",
    "    print(\"I am sorry you do not like \" + expected_response + \", you are missing out\")"
   ]
  },
  {
   "cell_type": "markdown",
   "metadata": {},
   "source": [
    "## f-strings"
   ]
  },
  {
   "cell_type": "markdown",
   "metadata": {},
   "source": [
    "In the above `if-else` snippet, when we were using the `print` statements, we had to add the variables\n",
    "using the `+` operator and then match the double quotes to ensure proper syntax. Fortunately, the\n",
    "variables I was printing were string, if they are integers, the whole thing becomes a mess. Look at the\n",
    "following example:"
   ]
  },
  {
   "cell_type": "code",
   "execution_count": null,
   "metadata": {},
   "outputs": [],
   "source": [
    "num_1: int = int(input(\"Enter first number\"))\n",
    "num_2: int = int(input(\"Enter second number\"))\n",
    "sum: int = num_1 + num_2\n",
    "\n",
    "# Look at the number of times I have to open and close the quotes and use the `+` symbol!!!\n",
    "print(\"The sum of \" + str(num_1) + \" and \" + str(num_2) + \" is \" + str(sum))"
   ]
  },
  {
   "cell_type": "markdown",
   "metadata": {},
   "source": [
    "Fortunately we have f-strings (or formatted strings) which make our lives so much easier. \n",
    "To convert a regular string into an f-string, we simply use the letter `f` before the double quotes."
   ]
  },
  {
   "cell_type": "code",
   "execution_count": 76,
   "metadata": {},
   "outputs": [
    {
     "data": {
      "text/plain": [
       "'hello'"
      ]
     },
     "execution_count": 76,
     "metadata": {},
     "output_type": "execute_result"
    }
   ],
   "source": [
    "\"hello\"                             # Regular string\n",
    "f\"hello\"                            # f-string"
   ]
  },
  {
   "cell_type": "markdown",
   "metadata": {},
   "source": [
    "f-strings allow us to make our code more readable. Let's use f-string for the above code snippet"
   ]
  },
  {
   "cell_type": "code",
   "execution_count": 77,
   "metadata": {},
   "outputs": [
    {
     "name": "stdout",
     "output_type": "stream",
     "text": [
      "The sum of 1 and 2 is 3\n"
     ]
    }
   ],
   "source": [
    "num_1: int = int(input(\"Enter first number\"))\n",
    "num_2: int = int(input(\"Enter second number\"))\n",
    "sum: int = num_1 + num_2\n",
    "\n",
    "print(f\"The sum of {num_1} and {num_2} is {sum}\")"
   ]
  },
  {
   "cell_type": "markdown",
   "metadata": {},
   "source": [
    "You can see how much simple it is to work with f-string than regular strings. \n",
    "\n",
    "So what is hapenning? In f-strings, when you use the curly braces `{}`, it creates a space where you can run Python code which is why you are able to use the variables as it is.\n",
    "\n",
    "Typically, if you have anything between double quotes, it is taken as a sequence of characters\n",
    "\n",
    "For example, \n",
    "`10 < 20` is a boolean expression but \"10 < 20\" is a string!\n",
    "\n",
    "By having variables / small expressions between the double quotes, it makes writing\n",
    "strings very easy. Following are some more examples\n",
    "\n",
    "NOTE - You can create f-strings without using the print statements. Try removing the print statements and seeing the value"
   ]
  },
  {
   "cell_type": "code",
   "execution_count": 78,
   "metadata": {},
   "outputs": [
    {
     "name": "stdout",
     "output_type": "stream",
     "text": [
      "Hello Thor son of Odin!\n",
      "The sum of the 1 + 2 is 3\n"
     ]
    }
   ],
   "source": [
    "name_of_user: str = \"Thor\"\n",
    "father_of_user: str = \"Odin\"\n",
    "print(f\"Hello {name_of_user} son of {father_of_user}!\")\n",
    "\n",
    "print(f\"The sum of the {num_1} + {num_2} is {num_1 + num_2}\")"
   ]
  },
  {
   "cell_type": "markdown",
   "metadata": {},
   "source": [
    "You can also use f-strings to format numbers. Say you want to print the value of `pi`. Using the f-string as it is will print a large number. "
   ]
  },
  {
   "cell_type": "code",
   "execution_count": 81,
   "metadata": {},
   "outputs": [
    {
     "name": "stdout",
     "output_type": "stream",
     "text": [
      "The value of pi is 3.142857142857143\n",
      "The value of pi is 3.14\n"
     ]
    }
   ],
   "source": [
    "pi: float = 22 / 7 \n",
    "print(f\"The value of pi is {pi}\")\n"
   ]
  },
  {
   "cell_type": "markdown",
   "metadata": {},
   "source": [
    "But I can use f-string to specify the decimal places I want to print. The syntax for that is as follows:\n",
    "\n",
    "```python\n",
    "f\"{variable_name:.Nf}\"\n",
    "```\n",
    "\n",
    "Here `N` defines the number of decimal places you want to print"
   ]
  },
  {
   "cell_type": "code",
   "execution_count": 83,
   "metadata": {},
   "outputs": [
    {
     "name": "stdout",
     "output_type": "stream",
     "text": [
      "The value of pi is 3.14\n"
     ]
    }
   ],
   "source": [
    "print(f\"The value of pi is {pi:.2f}\")                   # Try changing the N"
   ]
  },
  {
   "cell_type": "code",
   "execution_count": 50,
   "metadata": {},
   "outputs": [
    {
     "data": {
      "text/plain": [
       "'There are  30 days in a typical month'"
      ]
     },
     "execution_count": 50,
     "metadata": {},
     "output_type": "execute_result"
    }
   ],
   "source": [
    "f\"There are  {10 * 3} days in a typical month\""
   ]
  },
  {
   "cell_type": "markdown",
   "metadata": {},
   "source": [
    "## Basic string tasks: `lower`, `upper`, `capitalize`, `strip`"
   ]
  },
  {
   "cell_type": "markdown",
   "metadata": {},
   "source": [
    "The string data type in Python, comes with some in-built features, which are called methods. We will learn about methods, classes, and object later in the course. But these methods allow us to do some operations on the string.\n",
    "\n",
    "Following are the operations we can perform and the method we use to do them:\n",
    "\n",
    "1. Convert all letters in the string to lowercase letters using `.lower()`\n",
    "2. Convert all letters in the string to uppercase letters using `.upper()`\n",
    "3. Capitalize the first letter of the string using `.capitalize()`\n",
    "4. We can also check the length of the entire string using `len` or the length of small subset (sub-string) using `count`"
   ]
  },
  {
   "cell_type": "code",
   "execution_count": 4,
   "metadata": {},
   "outputs": [
    {
     "data": {
      "text/plain": [
       "'hello!'"
      ]
     },
     "execution_count": 4,
     "metadata": {},
     "output_type": "execute_result"
    }
   ],
   "source": [
    "\"HELLO!\".lower()"
   ]
  },
  {
   "cell_type": "code",
   "execution_count": 3,
   "metadata": {},
   "outputs": [
    {
     "data": {
      "text/plain": [
       "'HOLA'"
      ]
     },
     "execution_count": 3,
     "metadata": {},
     "output_type": "execute_result"
    }
   ],
   "source": [
    "\"hola\".upper()"
   ]
  },
  {
   "cell_type": "code",
   "execution_count": 7,
   "metadata": {},
   "outputs": [
    {
     "data": {
      "text/plain": [
       "'The food is very good'"
      ]
     },
     "execution_count": 7,
     "metadata": {},
     "output_type": "execute_result"
    }
   ],
   "source": [
    "\"the food is very good\".capitalize()"
   ]
  },
  {
   "cell_type": "code",
   "execution_count": 8,
   "metadata": {},
   "outputs": [
    {
     "data": {
      "text/plain": [
       "3"
      ]
     },
     "execution_count": 8,
     "metadata": {},
     "output_type": "execute_result"
    }
   ],
   "source": [
    "len(\"strawberry\")\n",
    "\"strawberry\".count(\"r\")"
   ]
  },
  {
   "cell_type": "markdown",
   "metadata": {},
   "source": [
    "## Checking properties of string: `isalpha`, `isdecimal`, `isalnum` `isupper`, `islower`, `len`\n",
    "\n",
    "We can also check the type of characters in the string:\n",
    "\n",
    "1. We can check if the string only contains letters using `.isalpha()`\n",
    "2. We can check if the string only contains numbers using `.isdecimal()`\n",
    "3. We can check if the string only contains letters and numbers using `.isalnum()`\n",
    "4. We can check if the letters are in uppercase or lowercase letters using `.isupper()` or `.islower()`"
   ]
  },
  {
   "cell_type": "code",
   "execution_count": 60,
   "metadata": {},
   "outputs": [
    {
     "data": {
      "text/plain": [
       "False"
      ]
     },
     "execution_count": 60,
     "metadata": {},
     "output_type": "execute_result"
    }
   ],
   "source": [
    "\"hello\".isalpha()                                   # True\n",
    "\"hello1\".isalpha()                                  # False"
   ]
  },
  {
   "cell_type": "markdown",
   "metadata": {},
   "source": [
    "### EXERCISE\n",
    "\n",
    "Similar to how we wrote two strings for `isalpha()`, where one string evaluated to `True` and the other evaluated to `False`, write strings for the other methods that evaluate to both `True` and `False`."
   ]
  },
  {
   "cell_type": "markdown",
   "metadata": {},
   "source": [
    "## Special characters `\\n`, `\\t`, `\\r`, `\\b`\n",
    "\n",
    "Lastly, apart from f-strings we can also use special characters to format strings.\n",
    "\n",
    "* `\\n` - This is called the new line character and adds a new line to the string thereby allowing you print on multiple lines\n",
    "* `\\t` - This is called the tab character and adds a tab between two characters\n",
    "* `\\r` - This is called the return carriage character and it brings the cursor back to the beginning of the line. It has some very interesting properties\n",
    "* `\\b` - This is the backspace character and it allows you to delete characters"
   ]
  },
  {
   "cell_type": "code",
   "execution_count": 62,
   "metadata": {},
   "outputs": [
    {
     "name": "stdout",
     "output_type": "stream",
     "text": [
      "A\n",
      "B\n"
     ]
    }
   ],
   "source": [
    "print(\"A\\nB\")"
   ]
  },
  {
   "cell_type": "code",
   "execution_count": 13,
   "metadata": {},
   "outputs": [
    {
     "name": "stdout",
     "output_type": "stream",
     "text": [
      "A\tB\n"
     ]
    }
   ],
   "source": [
    "print(\"A\\tB\")"
   ]
  },
  {
   "cell_type": "code",
   "execution_count": 15,
   "metadata": {},
   "outputs": [
    {
     "name": "stdout",
     "output_type": "stream",
     "text": [
      "EFCD\n"
     ]
    }
   ],
   "source": [
    "print(\"ABCD\\rEF\")                     # After printing 'ABCD', the cursor goes back to the beginning and (over)writes `EF`"
   ]
  },
  {
   "cell_type": "code",
   "execution_count": 17,
   "metadata": {},
   "outputs": [
    {
     "name": "stdout",
     "output_type": "stream",
     "text": [
      "ABC\n"
     ]
    }
   ],
   "source": [
    "print(\"ABCD\\b\")"
   ]
  }
 ],
 "metadata": {
  "kernelspec": {
   "display_name": "Python 3",
   "language": "python",
   "name": "python3"
  },
  "language_info": {
   "codemirror_mode": {
    "name": "ipython",
    "version": 3
   },
   "file_extension": ".py",
   "mimetype": "text/x-python",
   "name": "python",
   "nbconvert_exporter": "python",
   "pygments_lexer": "ipython3",
   "version": "3.11.9"
  }
 },
 "nbformat": 4,
 "nbformat_minor": 2
}
